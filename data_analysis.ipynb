{
 "cells": [
  {
   "cell_type": "markdown",
   "metadata": {},
   "source": [
    "May have to install via code block\n",
    "\n",
    "```bash\n",
    "!pip install numpy pandas scipy matplotlib\n",
    "```\n"
   ]
  },
  {
   "cell_type": "code",
   "execution_count": 3,
   "metadata": {},
   "outputs": [
    {
     "ename": "ModuleNotFoundError",
     "evalue": "No module named 'pandas'",
     "output_type": "error",
     "traceback": [
      "\u001b[0;31m---------------------------------------------------------------------------\u001b[0m",
      "\u001b[0;31mModuleNotFoundError\u001b[0m                       Traceback (most recent call last)",
      "Cell \u001b[0;32mIn[3], line 2\u001b[0m\n\u001b[1;32m      1\u001b[0m \u001b[39mimport\u001b[39;00m \u001b[39mnumpy\u001b[39;00m \u001b[39mas\u001b[39;00m \u001b[39mnp\u001b[39;00m\n\u001b[0;32m----> 2\u001b[0m \u001b[39mimport\u001b[39;00m \u001b[39mpandas\u001b[39;00m \u001b[39mas\u001b[39;00m \u001b[39mpd\u001b[39;00m\n\u001b[1;32m      3\u001b[0m \u001b[39mimport\u001b[39;00m \u001b[39mscipy\u001b[39;00m\n\u001b[1;32m      4\u001b[0m \u001b[39mimport\u001b[39;00m \u001b[39mmatplotlib\u001b[39;00m\u001b[39m.\u001b[39;00m\u001b[39mpyplot\u001b[39;00m \u001b[39mas\u001b[39;00m \u001b[39mplt\u001b[39;00m\n",
      "\u001b[0;31mModuleNotFoundError\u001b[0m: No module named 'pandas'"
     ]
    }
   ],
   "source": [
    "import numpy as np\n",
    "import pandas as pd\n",
    "import scipy\n",
    "import matplotlib.pyplot as plt\n",
    "%matplotlib inline"
   ]
  },
  {
   "cell_type": "markdown",
   "metadata": {},
   "source": [
    "### Run shell command `head` on filename"
   ]
  },
  {
   "cell_type": "code",
   "execution_count": 1,
   "metadata": {},
   "outputs": [
    {
     "name": "stdout",
     "output_type": "stream",
     "text": [
      "Release Date,Movie Title,Production Budget,Domestic Gross,Worldwide Gross\n",
      "4/23/2019,Avengers: Endgame,400000000,858373000,2797800564\n",
      "5/20/2011,Pirates of the Caribbean: On Stranger Tides,379000000,241071802,1045713802\n",
      "4/22/2015,Avengers: Age of Ultron,365000000,459005868,1395316979\n",
      "12/16/2015,Star Wars Ep. VII: The Force Awakens,306000000,936662225,2064615817\n",
      "4/25/2018,Avengers: Infinity War,300000000,678815482,2044540523\n",
      "5/24/2007,Pirates of the Caribbean: At World’s End,300000000,309420425,960996492\n",
      "11/13/2017,Justice League,300000000,229024295,655945209\n",
      "10/6/2015,Spectre,300000000,200074175,879500760\n",
      "12/18/2019,Star Wars: The Rise of Skywalker,275000000,515202542,1072848487\n"
     ]
    }
   ],
   "source": [
    "!head movies.csv"
   ]
  },
  {
   "cell_type": "markdown",
   "metadata": {},
   "source": [
    "### Read in a csv file and select the Date field"
   ]
  },
  {
   "cell_type": "code",
   "execution_count": 4,
   "metadata": {},
   "outputs": [],
   "source": [
    "movies = pd.read_csv(\n",
    "    'movies.csv',\n",
    "    delimiter=',',\n",
    "    parse_dates=['Release Date']\n",
    ")"
   ]
  },
  {
   "cell_type": "markdown",
   "metadata": {},
   "source": [
    "### Show dimensions of the `movies` DataFrame"
   ]
  },
  {
   "cell_type": "code",
   "execution_count": 5,
   "metadata": {},
   "outputs": [
    {
     "data": {
      "text/plain": [
       "(4000, 5)"
      ]
     },
     "execution_count": 5,
     "metadata": {},
     "output_type": "execute_result"
    }
   ],
   "source": [
    "movies.shape"
   ]
  },
  {
   "cell_type": "code",
   "execution_count": 6,
   "metadata": {},
   "outputs": [
    {
     "data": {
      "text/html": [
       "<div>\n",
       "<style scoped>\n",
       "    .dataframe tbody tr th:only-of-type {\n",
       "        vertical-align: middle;\n",
       "    }\n",
       "\n",
       "    .dataframe tbody tr th {\n",
       "        vertical-align: top;\n",
       "    }\n",
       "\n",
       "    .dataframe thead th {\n",
       "        text-align: right;\n",
       "    }\n",
       "</style>\n",
       "<table border=\"1\" class=\"dataframe\">\n",
       "  <thead>\n",
       "    <tr style=\"text-align: right;\">\n",
       "      <th></th>\n",
       "      <th>Release Date</th>\n",
       "      <th>Movie Title</th>\n",
       "      <th>Production Budget</th>\n",
       "      <th>Domestic Gross</th>\n",
       "      <th>Worldwide Gross</th>\n",
       "    </tr>\n",
       "  </thead>\n",
       "  <tbody>\n",
       "    <tr>\n",
       "      <th>0</th>\n",
       "      <td>2019-04-23</td>\n",
       "      <td>Avengers: Endgame</td>\n",
       "      <td>400000000</td>\n",
       "      <td>858373000</td>\n",
       "      <td>2797800564</td>\n",
       "    </tr>\n",
       "    <tr>\n",
       "      <th>1</th>\n",
       "      <td>2011-05-20</td>\n",
       "      <td>Pirates of the Caribbean: On Stranger Tides</td>\n",
       "      <td>379000000</td>\n",
       "      <td>241071802</td>\n",
       "      <td>1045713802</td>\n",
       "    </tr>\n",
       "    <tr>\n",
       "      <th>2</th>\n",
       "      <td>2015-04-22</td>\n",
       "      <td>Avengers: Age of Ultron</td>\n",
       "      <td>365000000</td>\n",
       "      <td>459005868</td>\n",
       "      <td>1395316979</td>\n",
       "    </tr>\n",
       "    <tr>\n",
       "      <th>3</th>\n",
       "      <td>2015-12-16</td>\n",
       "      <td>Star Wars Ep. VII: The Force Awakens</td>\n",
       "      <td>306000000</td>\n",
       "      <td>936662225</td>\n",
       "      <td>2064615817</td>\n",
       "    </tr>\n",
       "    <tr>\n",
       "      <th>4</th>\n",
       "      <td>2018-04-25</td>\n",
       "      <td>Avengers: Infinity War</td>\n",
       "      <td>300000000</td>\n",
       "      <td>678815482</td>\n",
       "      <td>2044540523</td>\n",
       "    </tr>\n",
       "  </tbody>\n",
       "</table>\n",
       "</div>"
      ],
      "text/plain": [
       "  Release Date                                  Movie Title  \\\n",
       "0   2019-04-23                            Avengers: Endgame   \n",
       "1   2011-05-20  Pirates of the Caribbean: On Stranger Tides   \n",
       "2   2015-04-22                      Avengers: Age of Ultron   \n",
       "3   2015-12-16         Star Wars Ep. VII: The Force Awakens   \n",
       "4   2018-04-25                       Avengers: Infinity War   \n",
       "\n",
       "   Production Budget  Domestic Gross  Worldwide Gross  \n",
       "0          400000000       858373000       2797800564  \n",
       "1          379000000       241071802       1045713802  \n",
       "2          365000000       459005868       1395316979  \n",
       "3          306000000       936662225       2064615817  \n",
       "4          300000000       678815482       2044540523  "
      ]
     },
     "execution_count": 6,
     "metadata": {},
     "output_type": "execute_result"
    }
   ],
   "source": [
    "movies.head()"
   ]
  },
  {
   "cell_type": "markdown",
   "metadata": {},
   "source": [
    "### List columns and thier data types"
   ]
  },
  {
   "cell_type": "code",
   "execution_count": 7,
   "metadata": {},
   "outputs": [
    {
     "name": "stdout",
     "output_type": "stream",
     "text": [
      "<class 'pandas.core.frame.DataFrame'>\n",
      "RangeIndex: 4000 entries, 0 to 3999\n",
      "Data columns (total 5 columns):\n",
      " #   Column             Non-Null Count  Dtype         \n",
      "---  ------             --------------  -----         \n",
      " 0   Release Date       3979 non-null   datetime64[ns]\n",
      " 1   Movie Title        4000 non-null   object        \n",
      " 2   Production Budget  4000 non-null   int64         \n",
      " 3   Domestic Gross     4000 non-null   int64         \n",
      " 4   Worldwide Gross    4000 non-null   int64         \n",
      "dtypes: datetime64[ns](1), int64(3), object(1)\n",
      "memory usage: 156.4+ KB\n"
     ]
    }
   ],
   "source": [
    "movies.info()"
   ]
  },
  {
   "cell_type": "markdown",
   "metadata": {},
   "source": [
    "### Get statistical analysis on number value columns"
   ]
  },
  {
   "cell_type": "code",
   "execution_count": 8,
   "metadata": {},
   "outputs": [
    {
     "data": {
      "text/html": [
       "<div>\n",
       "<style scoped>\n",
       "    .dataframe tbody tr th:only-of-type {\n",
       "        vertical-align: middle;\n",
       "    }\n",
       "\n",
       "    .dataframe tbody tr th {\n",
       "        vertical-align: top;\n",
       "    }\n",
       "\n",
       "    .dataframe thead th {\n",
       "        text-align: right;\n",
       "    }\n",
       "</style>\n",
       "<table border=\"1\" class=\"dataframe\">\n",
       "  <thead>\n",
       "    <tr style=\"text-align: right;\">\n",
       "      <th></th>\n",
       "      <th>Production Budget</th>\n",
       "      <th>Domestic Gross</th>\n",
       "      <th>Worldwide Gross</th>\n",
       "    </tr>\n",
       "  </thead>\n",
       "  <tbody>\n",
       "    <tr>\n",
       "      <th>count</th>\n",
       "      <td>4.000000e+03</td>\n",
       "      <td>4.000000e+03</td>\n",
       "      <td>4.000000e+03</td>\n",
       "    </tr>\n",
       "    <tr>\n",
       "      <th>mean</th>\n",
       "      <td>4.693967e+07</td>\n",
       "      <td>5.896280e+07</td>\n",
       "      <td>1.333273e+08</td>\n",
       "    </tr>\n",
       "    <tr>\n",
       "      <th>std</th>\n",
       "      <td>4.520228e+07</td>\n",
       "      <td>7.898698e+07</td>\n",
       "      <td>2.101515e+08</td>\n",
       "    </tr>\n",
       "    <tr>\n",
       "      <th>min</th>\n",
       "      <td>9.500000e+06</td>\n",
       "      <td>0.000000e+00</td>\n",
       "      <td>0.000000e+00</td>\n",
       "    </tr>\n",
       "    <tr>\n",
       "      <th>25%</th>\n",
       "      <td>1.800000e+07</td>\n",
       "      <td>1.180895e+07</td>\n",
       "      <td>2.015602e+07</td>\n",
       "    </tr>\n",
       "    <tr>\n",
       "      <th>50%</th>\n",
       "      <td>3.000000e+07</td>\n",
       "      <td>3.435976e+07</td>\n",
       "      <td>5.944108e+07</td>\n",
       "    </tr>\n",
       "    <tr>\n",
       "      <th>75%</th>\n",
       "      <td>6.000000e+07</td>\n",
       "      <td>7.301702e+07</td>\n",
       "      <td>1.578348e+08</td>\n",
       "    </tr>\n",
       "    <tr>\n",
       "      <th>max</th>\n",
       "      <td>4.000000e+08</td>\n",
       "      <td>9.366622e+08</td>\n",
       "      <td>2.845900e+09</td>\n",
       "    </tr>\n",
       "  </tbody>\n",
       "</table>\n",
       "</div>"
      ],
      "text/plain": [
       "       Production Budget  Domestic Gross  Worldwide Gross\n",
       "count       4.000000e+03    4.000000e+03     4.000000e+03\n",
       "mean        4.693967e+07    5.896280e+07     1.333273e+08\n",
       "std         4.520228e+07    7.898698e+07     2.101515e+08\n",
       "min         9.500000e+06    0.000000e+00     0.000000e+00\n",
       "25%         1.800000e+07    1.180895e+07     2.015602e+07\n",
       "50%         3.000000e+07    3.435976e+07     5.944108e+07\n",
       "75%         6.000000e+07    7.301702e+07     1.578348e+08\n",
       "max         4.000000e+08    9.366622e+08     2.845900e+09"
      ]
     },
     "execution_count": 8,
     "metadata": {},
     "output_type": "execute_result"
    }
   ],
   "source": [
    "movies.describe()"
   ]
  },
  {
   "cell_type": "markdown",
   "metadata": {},
   "source": [
    "### Get statitics for specific numerical value column"
   ]
  },
  {
   "cell_type": "code",
   "execution_count": 63,
   "metadata": {},
   "outputs": [
    {
     "data": {
      "text/plain": [
       "count    4.000000e+03\n",
       "mean     5.896280e+07\n",
       "std      7.898698e+07\n",
       "min      0.000000e+00\n",
       "25%      1.180895e+07\n",
       "50%      3.435976e+07\n",
       "75%      7.301702e+07\n",
       "max      9.366622e+08\n",
       "Name: Domestic Gross, dtype: float64"
      ]
     },
     "execution_count": 63,
     "metadata": {},
     "output_type": "execute_result"
    }
   ],
   "source": [
    "movies['Domestic Gross'].describe()"
   ]
  },
  {
   "cell_type": "markdown",
   "metadata": {},
   "source": [
    "### Box plot specific column"
   ]
  },
  {
   "cell_type": "code",
   "execution_count": 75,
   "metadata": {},
   "outputs": [
    {
     "data": {
      "text/plain": [
       "<AxesSubplot:>"
      ]
     },
     "execution_count": 75,
     "metadata": {},
     "output_type": "execute_result"
    },
    {
     "data": {
      "image/png": "[encoded data removed]",
      "text/plain": [
       "<Figure size 1008x432 with 1 Axes>"
      ]
     },
     "metadata": {
      "needs_background": "light"
     },
     "output_type": "display_data"
    }
   ],
   "source": [
    "movies['Domestic Gross'].plot(kind='box', vert=False, figsize=(14,6))"
   ]
  },
  {
   "cell_type": "code",
   "execution_count": 71,
   "metadata": {},
   "outputs": [
    {
     "data": {
      "text/plain": [
       "<AxesSubplot:>"
      ]
     },
     "execution_count": 71,
     "metadata": {},
     "output_type": "execute_result"
    },
    {
     "data": {
      "image/png": "[encoded data removed]",
      "text/plain": [
       "<Figure size 1008x432 with 1 Axes>"
      ]
     },
     "metadata": {
      "needs_background": "light"
     },
     "output_type": "display_data"
    }
   ],
   "source": [
    "movies['Domestic Gross'].plot(figsize=(14,6))"
   ]
  },
  {
   "cell_type": "markdown",
   "metadata": {},
   "source": [
    "### Add additional data to plot  \n",
    "Use `axvline`"
   ]
  },
  {
   "cell_type": "code",
   "execution_count": 12,
   "metadata": {},
   "outputs": [
    {
     "data": {
      "text/plain": [
       "<matplotlib.lines.Line2D at 0x7fc1e741c580>"
      ]
     },
     "execution_count": 12,
     "metadata": {},
     "output_type": "execute_result"
    },
    {
     "data": {
      "image/png": "[encoded data removed]",
      "text/plain": [
       "<Figure size 1008x432 with 1 Axes>"
      ]
     },
     "metadata": {
      "needs_background": "light"
     },
     "output_type": "display_data"
    }
   ],
   "source": [
    "ax = movies['Domestic Gross'].plot(kind='density', figsize=(14,6))\n",
    "ax.axvline(movies['Domestic Gross'].mean(), color=\"#ff4422\")\n",
    "ax.axvline(movies['Domestic Gross'].median(), color='green')"
   ]
  },
  {
   "cell_type": "code",
   "execution_count": 67,
   "metadata": {},
   "outputs": [
    {
     "data": {
      "text/plain": [
       "Text(0.5, 0, 'Length')"
      ]
     },
     "execution_count": 67,
     "metadata": {},
     "output_type": "execute_result"
    },
    {
     "data": {
      "image/png": "[encoded data removed]",
      "text/plain": [
       "<Figure size 1008x432 with 1 Axes>"
      ]
     },
     "metadata": {
      "needs_background": "light"
     },
     "output_type": "display_data"
    }
   ],
   "source": [
    "ax = movies['Domestic Gross'].plot(kind='hist', figsize=(14,6))\n",
    "ax.set_ylabel('Number of Movies')\n",
    "ax.set_xlabel('Length')"
   ]
  },
  {
   "cell_type": "code",
   "execution_count": 68,
   "metadata": {},
   "outputs": [
    {
     "data": {
      "text/html": [
       "<div>\n",
       "<style scoped>\n",
       "    .dataframe tbody tr th:only-of-type {\n",
       "        vertical-align: middle;\n",
       "    }\n",
       "\n",
       "    .dataframe tbody tr th {\n",
       "        vertical-align: top;\n",
       "    }\n",
       "\n",
       "    .dataframe thead th {\n",
       "        text-align: right;\n",
       "    }\n",
       "</style>\n",
       "<table border=\"1\" class=\"dataframe\">\n",
       "  <thead>\n",
       "    <tr style=\"text-align: right;\">\n",
       "      <th></th>\n",
       "      <th>Release Date</th>\n",
       "      <th>Movie Title</th>\n",
       "      <th>Production Budget</th>\n",
       "      <th>Domestic Gross</th>\n",
       "      <th>Worldwide Gross</th>\n",
       "    </tr>\n",
       "  </thead>\n",
       "  <tbody>\n",
       "    <tr>\n",
       "      <th>0</th>\n",
       "      <td>2019-04-23</td>\n",
       "      <td>Avengers: Endgame</td>\n",
       "      <td>400000000</td>\n",
       "      <td>858373000</td>\n",
       "      <td>2797800564</td>\n",
       "    </tr>\n",
       "    <tr>\n",
       "      <th>1</th>\n",
       "      <td>2011-05-20</td>\n",
       "      <td>Pirates of the Caribbean: On Stranger Tides</td>\n",
       "      <td>379000000</td>\n",
       "      <td>241071802</td>\n",
       "      <td>1045713802</td>\n",
       "    </tr>\n",
       "    <tr>\n",
       "      <th>2</th>\n",
       "      <td>2015-04-22</td>\n",
       "      <td>Avengers: Age of Ultron</td>\n",
       "      <td>365000000</td>\n",
       "      <td>459005868</td>\n",
       "      <td>1395316979</td>\n",
       "    </tr>\n",
       "    <tr>\n",
       "      <th>3</th>\n",
       "      <td>2015-12-16</td>\n",
       "      <td>Star Wars Ep. VII: The Force Awakens</td>\n",
       "      <td>306000000</td>\n",
       "      <td>936662225</td>\n",
       "      <td>2064615817</td>\n",
       "    </tr>\n",
       "    <tr>\n",
       "      <th>4</th>\n",
       "      <td>2018-04-25</td>\n",
       "      <td>Avengers: Infinity War</td>\n",
       "      <td>300000000</td>\n",
       "      <td>678815482</td>\n",
       "      <td>2044540523</td>\n",
       "    </tr>\n",
       "  </tbody>\n",
       "</table>\n",
       "</div>"
      ],
      "text/plain": [
       "  Release Date                                  Movie Title  \\\n",
       "0   2019-04-23                            Avengers: Endgame   \n",
       "1   2011-05-20  Pirates of the Caribbean: On Stranger Tides   \n",
       "2   2015-04-22                      Avengers: Age of Ultron   \n",
       "3   2015-12-16         Star Wars Ep. VII: The Force Awakens   \n",
       "4   2018-04-25                       Avengers: Infinity War   \n",
       "\n",
       "   Production Budget  Domestic Gross  Worldwide Gross  \n",
       "0          400000000       858373000       2797800564  \n",
       "1          379000000       241071802       1045713802  \n",
       "2          365000000       459005868       1395316979  \n",
       "3          306000000       936662225       2064615817  \n",
       "4          300000000       678815482       2044540523  "
      ]
     },
     "execution_count": 68,
     "metadata": {},
     "output_type": "execute_result"
    }
   ],
   "source": [
    "movies.head()"
   ]
  },
  {
   "cell_type": "markdown",
   "metadata": {},
   "source": [
    "### Get counts of each value for a column and sort"
   ]
  },
  {
   "cell_type": "code",
   "execution_count": 13,
   "metadata": {},
   "outputs": [
    {
     "data": {
      "text/plain": [
       "2000-12-22    8\n",
       "2009-10-23    7\n",
       "2004-12-17    7\n",
       "2008-10-03    7\n",
       "1996-12-20    6\n",
       "             ..\n",
       "1992-02-14    1\n",
       "2016-07-29    1\n",
       "2019-01-17    1\n",
       "2012-12-12    1\n",
       "2009-10-30    1\n",
       "Name: Release Date, Length: 2267, dtype: int64"
      ]
     },
     "execution_count": 13,
     "metadata": {},
     "output_type": "execute_result"
    }
   ],
   "source": [
    "movies['Release Date'].value_counts().sort_values(ascending=False)"
   ]
  },
  {
   "cell_type": "markdown",
   "metadata": {},
   "source": [
    "### Correlation of number value columns"
   ]
  },
  {
   "cell_type": "code",
   "execution_count": 69,
   "metadata": {},
   "outputs": [
    {
     "data": {
      "text/html": [
       "<div>\n",
       "<style scoped>\n",
       "    .dataframe tbody tr th:only-of-type {\n",
       "        vertical-align: middle;\n",
       "    }\n",
       "\n",
       "    .dataframe tbody tr th {\n",
       "        vertical-align: top;\n",
       "    }\n",
       "\n",
       "    .dataframe thead th {\n",
       "        text-align: right;\n",
       "    }\n",
       "</style>\n",
       "<table border=\"1\" class=\"dataframe\">\n",
       "  <thead>\n",
       "    <tr style=\"text-align: right;\">\n",
       "      <th></th>\n",
       "      <th>Production Budget</th>\n",
       "      <th>Domestic Gross</th>\n",
       "      <th>Worldwide Gross</th>\n",
       "    </tr>\n",
       "  </thead>\n",
       "  <tbody>\n",
       "    <tr>\n",
       "      <th>Production Budget</th>\n",
       "      <td>1.000000</td>\n",
       "      <td>0.642199</td>\n",
       "      <td>0.714920</td>\n",
       "    </tr>\n",
       "    <tr>\n",
       "      <th>Domestic Gross</th>\n",
       "      <td>0.642199</td>\n",
       "      <td>1.000000</td>\n",
       "      <td>0.934007</td>\n",
       "    </tr>\n",
       "    <tr>\n",
       "      <th>Worldwide Gross</th>\n",
       "      <td>0.714920</td>\n",
       "      <td>0.934007</td>\n",
       "      <td>1.000000</td>\n",
       "    </tr>\n",
       "  </tbody>\n",
       "</table>\n",
       "</div>"
      ],
      "text/plain": [
       "                   Production Budget  Domestic Gross  Worldwide Gross\n",
       "Production Budget           1.000000        0.642199         0.714920\n",
       "Domestic Gross              0.642199        1.000000         0.934007\n",
       "Worldwide Gross             0.714920        0.934007         1.000000"
      ]
     },
     "execution_count": 69,
     "metadata": {},
     "output_type": "execute_result"
    }
   ],
   "source": [
    "corr = movies.corr()\n",
    "corr"
   ]
  },
  {
   "cell_type": "markdown",
   "metadata": {},
   "source": [
    "### Plot correlation in Red/Blue box format"
   ]
  },
  {
   "cell_type": "code",
   "execution_count": 70,
   "metadata": {},
   "outputs": [
    {
     "data": {
      "image/png": "[encoded data removed]",
      "text/plain": [
       "<Figure size 576x576 with 1 Axes>"
      ]
     },
     "metadata": {
      "needs_background": "light"
     },
     "output_type": "display_data"
    }
   ],
   "source": [
    "fig = plt.figure(figsize=(8,8))\n",
    "plt.matshow(corr, cmap='RdBu', fignum=fig.number)\n",
    "plt.xticks(range(len(corr.columns)), corr.columns, rotation='vertical');\n",
    "plt.yticks(range(len(corr.columns)), corr.columns);"
   ]
  },
  {
   "cell_type": "markdown",
   "metadata": {},
   "source": [
    "### Add column and round down the decimals"
   ]
  },
  {
   "cell_type": "code",
   "execution_count": 14,
   "metadata": {},
   "outputs": [
    {
     "data": {
      "text/html": [
       "<div>\n",
       "<style scoped>\n",
       "    .dataframe tbody tr th:only-of-type {\n",
       "        vertical-align: middle;\n",
       "    }\n",
       "\n",
       "    .dataframe tbody tr th {\n",
       "        vertical-align: top;\n",
       "    }\n",
       "\n",
       "    .dataframe thead th {\n",
       "        text-align: right;\n",
       "    }\n",
       "</style>\n",
       "<table border=\"1\" class=\"dataframe\">\n",
       "  <thead>\n",
       "    <tr style=\"text-align: right;\">\n",
       "      <th></th>\n",
       "      <th>Release Date</th>\n",
       "      <th>Movie Title</th>\n",
       "      <th>Production Budget</th>\n",
       "      <th>Domestic Gross</th>\n",
       "      <th>Worldwide Gross</th>\n",
       "      <th>Domestic Millions</th>\n",
       "    </tr>\n",
       "  </thead>\n",
       "  <tbody>\n",
       "    <tr>\n",
       "      <th>0</th>\n",
       "      <td>2019-04-23</td>\n",
       "      <td>Avengers: Endgame</td>\n",
       "      <td>400000000</td>\n",
       "      <td>858373000</td>\n",
       "      <td>2797800564</td>\n",
       "      <td>858.37</td>\n",
       "    </tr>\n",
       "    <tr>\n",
       "      <th>1</th>\n",
       "      <td>2011-05-20</td>\n",
       "      <td>Pirates of the Caribbean: On Stranger Tides</td>\n",
       "      <td>379000000</td>\n",
       "      <td>241071802</td>\n",
       "      <td>1045713802</td>\n",
       "      <td>241.07</td>\n",
       "    </tr>\n",
       "    <tr>\n",
       "      <th>2</th>\n",
       "      <td>2015-04-22</td>\n",
       "      <td>Avengers: Age of Ultron</td>\n",
       "      <td>365000000</td>\n",
       "      <td>459005868</td>\n",
       "      <td>1395316979</td>\n",
       "      <td>459.01</td>\n",
       "    </tr>\n",
       "    <tr>\n",
       "      <th>3</th>\n",
       "      <td>2015-12-16</td>\n",
       "      <td>Star Wars Ep. VII: The Force Awakens</td>\n",
       "      <td>306000000</td>\n",
       "      <td>936662225</td>\n",
       "      <td>2064615817</td>\n",
       "      <td>936.66</td>\n",
       "    </tr>\n",
       "    <tr>\n",
       "      <th>4</th>\n",
       "      <td>2018-04-25</td>\n",
       "      <td>Avengers: Infinity War</td>\n",
       "      <td>300000000</td>\n",
       "      <td>678815482</td>\n",
       "      <td>2044540523</td>\n",
       "      <td>678.82</td>\n",
       "    </tr>\n",
       "  </tbody>\n",
       "</table>\n",
       "</div>"
      ],
      "text/plain": [
       "  Release Date                                  Movie Title  \\\n",
       "0   2019-04-23                            Avengers: Endgame   \n",
       "1   2011-05-20  Pirates of the Caribbean: On Stranger Tides   \n",
       "2   2015-04-22                      Avengers: Age of Ultron   \n",
       "3   2015-12-16         Star Wars Ep. VII: The Force Awakens   \n",
       "4   2018-04-25                       Avengers: Infinity War   \n",
       "\n",
       "   Production Budget  Domestic Gross  Worldwide Gross  Domestic Millions  \n",
       "0          400000000       858373000       2797800564             858.37  \n",
       "1          379000000       241071802       1045713802             241.07  \n",
       "2          365000000       459005868       1395316979             459.01  \n",
       "3          306000000       936662225       2064615817             936.66  \n",
       "4          300000000       678815482       2044540523             678.82  "
      ]
     },
     "execution_count": 14,
     "metadata": {},
     "output_type": "execute_result"
    }
   ],
   "source": [
    "movies['Domestic Millions'] = (movies['Domestic Gross'] / 1000000).round(decimals=2)\n",
    "movies.head()"
   ]
  },
  {
   "cell_type": "code",
   "execution_count": 15,
   "metadata": {},
   "outputs": [
    {
     "data": {
      "text/html": [
       "<div>\n",
       "<style scoped>\n",
       "    .dataframe tbody tr th:only-of-type {\n",
       "        vertical-align: middle;\n",
       "    }\n",
       "\n",
       "    .dataframe tbody tr th {\n",
       "        vertical-align: top;\n",
       "    }\n",
       "\n",
       "    .dataframe thead th {\n",
       "        text-align: right;\n",
       "    }\n",
       "</style>\n",
       "<table border=\"1\" class=\"dataframe\">\n",
       "  <thead>\n",
       "    <tr style=\"text-align: right;\">\n",
       "      <th></th>\n",
       "      <th>Release Date</th>\n",
       "      <th>Movie Title</th>\n",
       "      <th>Production Budget</th>\n",
       "      <th>Domestic Gross</th>\n",
       "      <th>Worldwide Gross</th>\n",
       "      <th>Domestic Millions</th>\n",
       "      <th>Worldwide Millions</th>\n",
       "    </tr>\n",
       "  </thead>\n",
       "  <tbody>\n",
       "    <tr>\n",
       "      <th>0</th>\n",
       "      <td>2019-04-23</td>\n",
       "      <td>Avengers: Endgame</td>\n",
       "      <td>400000000</td>\n",
       "      <td>858373000</td>\n",
       "      <td>2797800564</td>\n",
       "      <td>858.37</td>\n",
       "      <td>2797.80</td>\n",
       "    </tr>\n",
       "    <tr>\n",
       "      <th>1</th>\n",
       "      <td>2011-05-20</td>\n",
       "      <td>Pirates of the Caribbean: On Stranger Tides</td>\n",
       "      <td>379000000</td>\n",
       "      <td>241071802</td>\n",
       "      <td>1045713802</td>\n",
       "      <td>241.07</td>\n",
       "      <td>1045.71</td>\n",
       "    </tr>\n",
       "    <tr>\n",
       "      <th>2</th>\n",
       "      <td>2015-04-22</td>\n",
       "      <td>Avengers: Age of Ultron</td>\n",
       "      <td>365000000</td>\n",
       "      <td>459005868</td>\n",
       "      <td>1395316979</td>\n",
       "      <td>459.01</td>\n",
       "      <td>1395.32</td>\n",
       "    </tr>\n",
       "    <tr>\n",
       "      <th>3</th>\n",
       "      <td>2015-12-16</td>\n",
       "      <td>Star Wars Ep. VII: The Force Awakens</td>\n",
       "      <td>306000000</td>\n",
       "      <td>936662225</td>\n",
       "      <td>2064615817</td>\n",
       "      <td>936.66</td>\n",
       "      <td>2064.62</td>\n",
       "    </tr>\n",
       "    <tr>\n",
       "      <th>4</th>\n",
       "      <td>2018-04-25</td>\n",
       "      <td>Avengers: Infinity War</td>\n",
       "      <td>300000000</td>\n",
       "      <td>678815482</td>\n",
       "      <td>2044540523</td>\n",
       "      <td>678.82</td>\n",
       "      <td>2044.54</td>\n",
       "    </tr>\n",
       "  </tbody>\n",
       "</table>\n",
       "</div>"
      ],
      "text/plain": [
       "  Release Date                                  Movie Title  \\\n",
       "0   2019-04-23                            Avengers: Endgame   \n",
       "1   2011-05-20  Pirates of the Caribbean: On Stranger Tides   \n",
       "2   2015-04-22                      Avengers: Age of Ultron   \n",
       "3   2015-12-16         Star Wars Ep. VII: The Force Awakens   \n",
       "4   2018-04-25                       Avengers: Infinity War   \n",
       "\n",
       "   Production Budget  Domestic Gross  Worldwide Gross  Domestic Millions  \\\n",
       "0          400000000       858373000       2797800564             858.37   \n",
       "1          379000000       241071802       1045713802             241.07   \n",
       "2          365000000       459005868       1395316979             459.01   \n",
       "3          306000000       936662225       2064615817             936.66   \n",
       "4          300000000       678815482       2044540523             678.82   \n",
       "\n",
       "   Worldwide Millions  \n",
       "0             2797.80  \n",
       "1             1045.71  \n",
       "2             1395.32  \n",
       "3             2064.62  \n",
       "4             2044.54  "
      ]
     },
     "execution_count": 15,
     "metadata": {},
     "output_type": "execute_result"
    }
   ],
   "source": [
    "movies['Worldwide Millions'] = (movies['Worldwide Gross'] / 1000000).round(decimals=2)\n",
    "movies.head()"
   ]
  },
  {
   "cell_type": "code",
   "execution_count": 16,
   "metadata": {},
   "outputs": [
    {
     "data": {
      "text/html": [
       "<div>\n",
       "<style scoped>\n",
       "    .dataframe tbody tr th:only-of-type {\n",
       "        vertical-align: middle;\n",
       "    }\n",
       "\n",
       "    .dataframe tbody tr th {\n",
       "        vertical-align: top;\n",
       "    }\n",
       "\n",
       "    .dataframe thead th {\n",
       "        text-align: right;\n",
       "    }\n",
       "</style>\n",
       "<table border=\"1\" class=\"dataframe\">\n",
       "  <thead>\n",
       "    <tr style=\"text-align: right;\">\n",
       "      <th></th>\n",
       "      <th>Release Date</th>\n",
       "      <th>Movie Title</th>\n",
       "      <th>Production Budget</th>\n",
       "      <th>Domestic Gross</th>\n",
       "      <th>Worldwide Gross</th>\n",
       "      <th>Domestic Millions</th>\n",
       "      <th>Worldwide Millions</th>\n",
       "      <th>Budget Millions</th>\n",
       "    </tr>\n",
       "  </thead>\n",
       "  <tbody>\n",
       "    <tr>\n",
       "      <th>0</th>\n",
       "      <td>2019-04-23</td>\n",
       "      <td>Avengers: Endgame</td>\n",
       "      <td>400000000</td>\n",
       "      <td>858373000</td>\n",
       "      <td>2797800564</td>\n",
       "      <td>858.37</td>\n",
       "      <td>2797.80</td>\n",
       "      <td>400.0</td>\n",
       "    </tr>\n",
       "    <tr>\n",
       "      <th>1</th>\n",
       "      <td>2011-05-20</td>\n",
       "      <td>Pirates of the Caribbean: On Stranger Tides</td>\n",
       "      <td>379000000</td>\n",
       "      <td>241071802</td>\n",
       "      <td>1045713802</td>\n",
       "      <td>241.07</td>\n",
       "      <td>1045.71</td>\n",
       "      <td>379.0</td>\n",
       "    </tr>\n",
       "    <tr>\n",
       "      <th>2</th>\n",
       "      <td>2015-04-22</td>\n",
       "      <td>Avengers: Age of Ultron</td>\n",
       "      <td>365000000</td>\n",
       "      <td>459005868</td>\n",
       "      <td>1395316979</td>\n",
       "      <td>459.01</td>\n",
       "      <td>1395.32</td>\n",
       "      <td>365.0</td>\n",
       "    </tr>\n",
       "    <tr>\n",
       "      <th>3</th>\n",
       "      <td>2015-12-16</td>\n",
       "      <td>Star Wars Ep. VII: The Force Awakens</td>\n",
       "      <td>306000000</td>\n",
       "      <td>936662225</td>\n",
       "      <td>2064615817</td>\n",
       "      <td>936.66</td>\n",
       "      <td>2064.62</td>\n",
       "      <td>306.0</td>\n",
       "    </tr>\n",
       "    <tr>\n",
       "      <th>4</th>\n",
       "      <td>2018-04-25</td>\n",
       "      <td>Avengers: Infinity War</td>\n",
       "      <td>300000000</td>\n",
       "      <td>678815482</td>\n",
       "      <td>2044540523</td>\n",
       "      <td>678.82</td>\n",
       "      <td>2044.54</td>\n",
       "      <td>300.0</td>\n",
       "    </tr>\n",
       "  </tbody>\n",
       "</table>\n",
       "</div>"
      ],
      "text/plain": [
       "  Release Date                                  Movie Title  \\\n",
       "0   2019-04-23                            Avengers: Endgame   \n",
       "1   2011-05-20  Pirates of the Caribbean: On Stranger Tides   \n",
       "2   2015-04-22                      Avengers: Age of Ultron   \n",
       "3   2015-12-16         Star Wars Ep. VII: The Force Awakens   \n",
       "4   2018-04-25                       Avengers: Infinity War   \n",
       "\n",
       "   Production Budget  Domestic Gross  Worldwide Gross  Domestic Millions  \\\n",
       "0          400000000       858373000       2797800564             858.37   \n",
       "1          379000000       241071802       1045713802             241.07   \n",
       "2          365000000       459005868       1395316979             459.01   \n",
       "3          306000000       936662225       2064615817             936.66   \n",
       "4          300000000       678815482       2044540523             678.82   \n",
       "\n",
       "   Worldwide Millions  Budget Millions  \n",
       "0             2797.80            400.0  \n",
       "1             1045.71            379.0  \n",
       "2             1395.32            365.0  \n",
       "3             2064.62            306.0  \n",
       "4             2044.54            300.0  "
      ]
     },
     "execution_count": 16,
     "metadata": {},
     "output_type": "execute_result"
    }
   ],
   "source": [
    "movies['Budget Millions'] = (movies['Production Budget'] / 1000000).round(decimals=2)\n",
    "movies.head()\n"
   ]
  },
  {
   "cell_type": "code",
   "execution_count": 17,
   "metadata": {},
   "outputs": [
    {
     "data": {
      "text/html": [
       "<div>\n",
       "<style scoped>\n",
       "    .dataframe tbody tr th:only-of-type {\n",
       "        vertical-align: middle;\n",
       "    }\n",
       "\n",
       "    .dataframe tbody tr th {\n",
       "        vertical-align: top;\n",
       "    }\n",
       "\n",
       "    .dataframe thead th {\n",
       "        text-align: right;\n",
       "    }\n",
       "</style>\n",
       "<table border=\"1\" class=\"dataframe\">\n",
       "  <thead>\n",
       "    <tr style=\"text-align: right;\">\n",
       "      <th></th>\n",
       "      <th>Release Date</th>\n",
       "      <th>Movie Title</th>\n",
       "      <th>Domestic Millions</th>\n",
       "      <th>Worldwide Millions</th>\n",
       "      <th>Budget Millions</th>\n",
       "    </tr>\n",
       "  </thead>\n",
       "  <tbody>\n",
       "    <tr>\n",
       "      <th>0</th>\n",
       "      <td>2019-04-23</td>\n",
       "      <td>Avengers: Endgame</td>\n",
       "      <td>858.37</td>\n",
       "      <td>2797.80</td>\n",
       "      <td>400.0</td>\n",
       "    </tr>\n",
       "    <tr>\n",
       "      <th>1</th>\n",
       "      <td>2011-05-20</td>\n",
       "      <td>Pirates of the Caribbean: On Stranger Tides</td>\n",
       "      <td>241.07</td>\n",
       "      <td>1045.71</td>\n",
       "      <td>379.0</td>\n",
       "    </tr>\n",
       "    <tr>\n",
       "      <th>2</th>\n",
       "      <td>2015-04-22</td>\n",
       "      <td>Avengers: Age of Ultron</td>\n",
       "      <td>459.01</td>\n",
       "      <td>1395.32</td>\n",
       "      <td>365.0</td>\n",
       "    </tr>\n",
       "    <tr>\n",
       "      <th>3</th>\n",
       "      <td>2015-12-16</td>\n",
       "      <td>Star Wars Ep. VII: The Force Awakens</td>\n",
       "      <td>936.66</td>\n",
       "      <td>2064.62</td>\n",
       "      <td>306.0</td>\n",
       "    </tr>\n",
       "    <tr>\n",
       "      <th>4</th>\n",
       "      <td>2018-04-25</td>\n",
       "      <td>Avengers: Infinity War</td>\n",
       "      <td>678.82</td>\n",
       "      <td>2044.54</td>\n",
       "      <td>300.0</td>\n",
       "    </tr>\n",
       "  </tbody>\n",
       "</table>\n",
       "</div>"
      ],
      "text/plain": [
       "  Release Date                                  Movie Title  \\\n",
       "0   2019-04-23                            Avengers: Endgame   \n",
       "1   2011-05-20  Pirates of the Caribbean: On Stranger Tides   \n",
       "2   2015-04-22                      Avengers: Age of Ultron   \n",
       "3   2015-12-16         Star Wars Ep. VII: The Force Awakens   \n",
       "4   2018-04-25                       Avengers: Infinity War   \n",
       "\n",
       "   Domestic Millions  Worldwide Millions  Budget Millions  \n",
       "0             858.37             2797.80            400.0  \n",
       "1             241.07             1045.71            379.0  \n",
       "2             459.01             1395.32            365.0  \n",
       "3             936.66             2064.62            306.0  \n",
       "4             678.82             2044.54            300.0  "
      ]
     },
     "execution_count": 17,
     "metadata": {},
     "output_type": "execute_result"
    }
   ],
   "source": [
    "df = movies[['Release Date', 'Movie Title', 'Domestic Millions', 'Worldwide Millions', 'Budget Millions']]\n",
    "df.head()"
   ]
  },
  {
   "cell_type": "markdown",
   "metadata": {},
   "source": [
    "### Find all the rows with no 'Release Date' and drop them - assign to new df"
   ]
  },
  {
   "cell_type": "code",
   "execution_count": 18,
   "metadata": {},
   "outputs": [
    {
     "name": "stdout",
     "output_type": "stream",
     "text": [
      "<class 'pandas.core.frame.DataFrame'>\n",
      "RangeIndex: 4000 entries, 0 to 3999\n",
      "Data columns (total 8 columns):\n",
      " #   Column              Non-Null Count  Dtype         \n",
      "---  ------              --------------  -----         \n",
      " 0   Release Date        3979 non-null   datetime64[ns]\n",
      " 1   Movie Title         4000 non-null   object        \n",
      " 2   Production Budget   4000 non-null   int64         \n",
      " 3   Domestic Gross      4000 non-null   int64         \n",
      " 4   Worldwide Gross     4000 non-null   int64         \n",
      " 5   Domestic Millions   4000 non-null   float64       \n",
      " 6   Worldwide Millions  4000 non-null   float64       \n",
      " 7   Budget Millions     4000 non-null   float64       \n",
      "dtypes: datetime64[ns](1), float64(3), int64(3), object(1)\n",
      "memory usage: 250.1+ KB\n",
      "<class 'pandas.core.frame.DataFrame'>\n",
      "Int64Index: 3979 entries, 0 to 3999\n",
      "Data columns (total 8 columns):\n",
      " #   Column              Non-Null Count  Dtype         \n",
      "---  ------              --------------  -----         \n",
      " 0   Release Date        3979 non-null   datetime64[ns]\n",
      " 1   Movie Title         3979 non-null   object        \n",
      " 2   Production Budget   3979 non-null   int64         \n",
      " 3   Domestic Gross      3979 non-null   int64         \n",
      " 4   Worldwide Gross     3979 non-null   int64         \n",
      " 5   Domestic Millions   3979 non-null   float64       \n",
      " 6   Worldwide Millions  3979 non-null   float64       \n",
      " 7   Budget Millions     3979 non-null   float64       \n",
      "dtypes: datetime64[ns](1), float64(3), int64(3), object(1)\n",
      "memory usage: 279.8+ KB\n"
     ]
    }
   ],
   "source": [
    "movies.info()\n",
    "df = movies.dropna(subset=['Release Date'])\n",
    "df.info()\n"
   ]
  },
  {
   "cell_type": "markdown",
   "metadata": {},
   "source": [
    "### Create a `df` with all values that have dates less than 2022  \n",
    "### Use `.loc[mask]` to filter the values"
   ]
  },
  {
   "cell_type": "code",
   "execution_count": 19,
   "metadata": {},
   "outputs": [
    {
     "data": {
      "text/html": [
       "<div>\n",
       "<style scoped>\n",
       "    .dataframe tbody tr th:only-of-type {\n",
       "        vertical-align: middle;\n",
       "    }\n",
       "\n",
       "    .dataframe tbody tr th {\n",
       "        vertical-align: top;\n",
       "    }\n",
       "\n",
       "    .dataframe thead th {\n",
       "        text-align: right;\n",
       "    }\n",
       "</style>\n",
       "<table border=\"1\" class=\"dataframe\">\n",
       "  <thead>\n",
       "    <tr style=\"text-align: right;\">\n",
       "      <th></th>\n",
       "      <th>Release Date</th>\n",
       "      <th>Movie Title</th>\n",
       "      <th>Production Budget</th>\n",
       "      <th>Domestic Gross</th>\n",
       "      <th>Worldwide Gross</th>\n",
       "      <th>Domestic Millions</th>\n",
       "      <th>Worldwide Millions</th>\n",
       "      <th>Budget Millions</th>\n",
       "    </tr>\n",
       "  </thead>\n",
       "  <tbody>\n",
       "    <tr>\n",
       "      <th>0</th>\n",
       "      <td>2019-04-23</td>\n",
       "      <td>Avengers: Endgame</td>\n",
       "      <td>400000000</td>\n",
       "      <td>858373000</td>\n",
       "      <td>2797800564</td>\n",
       "      <td>858.37</td>\n",
       "      <td>2797.80</td>\n",
       "      <td>400.0</td>\n",
       "    </tr>\n",
       "    <tr>\n",
       "      <th>1</th>\n",
       "      <td>2011-05-20</td>\n",
       "      <td>Pirates of the Caribbean: On Stranger Tides</td>\n",
       "      <td>379000000</td>\n",
       "      <td>241071802</td>\n",
       "      <td>1045713802</td>\n",
       "      <td>241.07</td>\n",
       "      <td>1045.71</td>\n",
       "      <td>379.0</td>\n",
       "    </tr>\n",
       "    <tr>\n",
       "      <th>2</th>\n",
       "      <td>2015-04-22</td>\n",
       "      <td>Avengers: Age of Ultron</td>\n",
       "      <td>365000000</td>\n",
       "      <td>459005868</td>\n",
       "      <td>1395316979</td>\n",
       "      <td>459.01</td>\n",
       "      <td>1395.32</td>\n",
       "      <td>365.0</td>\n",
       "    </tr>\n",
       "    <tr>\n",
       "      <th>3</th>\n",
       "      <td>2015-12-16</td>\n",
       "      <td>Star Wars Ep. VII: The Force Awakens</td>\n",
       "      <td>306000000</td>\n",
       "      <td>936662225</td>\n",
       "      <td>2064615817</td>\n",
       "      <td>936.66</td>\n",
       "      <td>2064.62</td>\n",
       "      <td>306.0</td>\n",
       "    </tr>\n",
       "    <tr>\n",
       "      <th>4</th>\n",
       "      <td>2018-04-25</td>\n",
       "      <td>Avengers: Infinity War</td>\n",
       "      <td>300000000</td>\n",
       "      <td>678815482</td>\n",
       "      <td>2044540523</td>\n",
       "      <td>678.82</td>\n",
       "      <td>2044.54</td>\n",
       "      <td>300.0</td>\n",
       "    </tr>\n",
       "  </tbody>\n",
       "</table>\n",
       "</div>"
      ],
      "text/plain": [
       "  Release Date                                  Movie Title  \\\n",
       "0   2019-04-23                            Avengers: Endgame   \n",
       "1   2011-05-20  Pirates of the Caribbean: On Stranger Tides   \n",
       "2   2015-04-22                      Avengers: Age of Ultron   \n",
       "3   2015-12-16         Star Wars Ep. VII: The Force Awakens   \n",
       "4   2018-04-25                       Avengers: Infinity War   \n",
       "\n",
       "   Production Budget  Domestic Gross  Worldwide Gross  Domestic Millions  \\\n",
       "0          400000000       858373000       2797800564             858.37   \n",
       "1          379000000       241071802       1045713802             241.07   \n",
       "2          365000000       459005868       1395316979             459.01   \n",
       "3          306000000       936662225       2064615817             936.66   \n",
       "4          300000000       678815482       2044540523             678.82   \n",
       "\n",
       "   Worldwide Millions  Budget Millions  \n",
       "0             2797.80            400.0  \n",
       "1             1045.71            379.0  \n",
       "2             1395.32            365.0  \n",
       "3             2064.62            306.0  \n",
       "4             2044.54            300.0  "
      ]
     },
     "execution_count": 19,
     "metadata": {},
     "output_type": "execute_result"
    }
   ],
   "source": [
    "mask = (df['Release Date'] < \"2022-01-01\")\n",
    "df = df.loc[mask]\n",
    "df.head()"
   ]
  },
  {
   "cell_type": "markdown",
   "metadata": {},
   "source": [
    "#### Create new columns 'Year' and 'Month' using the 'Release Date' ('Release Date' must be a datetime)"
   ]
  },
  {
   "cell_type": "code",
   "execution_count": 20,
   "metadata": {},
   "outputs": [],
   "source": [
    "df['Year'] = df['Release Date'].dt.year\n",
    "df['Month'] = df['Release Date'].dt.month\n"
   ]
  },
  {
   "cell_type": "code",
   "execution_count": 21,
   "metadata": {},
   "outputs": [
    {
     "name": "stdout",
     "output_type": "stream",
     "text": [
      "<class 'pandas.core.frame.DataFrame'>\n",
      "Int64Index: 3948 entries, 0 to 3999\n",
      "Data columns (total 10 columns):\n",
      " #   Column              Non-Null Count  Dtype         \n",
      "---  ------              --------------  -----         \n",
      " 0   Release Date        3948 non-null   datetime64[ns]\n",
      " 1   Movie Title         3948 non-null   object        \n",
      " 2   Production Budget   3948 non-null   int64         \n",
      " 3   Domestic Gross      3948 non-null   int64         \n",
      " 4   Worldwide Gross     3948 non-null   int64         \n",
      " 5   Domestic Millions   3948 non-null   float64       \n",
      " 6   Worldwide Millions  3948 non-null   float64       \n",
      " 7   Budget Millions     3948 non-null   float64       \n",
      " 8   Year                3948 non-null   int64         \n",
      " 9   Month               3948 non-null   int64         \n",
      "dtypes: datetime64[ns](1), float64(3), int64(5), object(1)\n",
      "memory usage: 339.3+ KB\n"
     ]
    }
   ],
   "source": [
    "df.info()"
   ]
  },
  {
   "cell_type": "markdown",
   "metadata": {},
   "source": [
    "### Plot budget and domestic box office dollars grouped by 'Year'"
   ]
  },
  {
   "cell_type": "code",
   "execution_count": 22,
   "metadata": {},
   "outputs": [
    {
     "data": {
      "text/plain": [
       "<AxesSubplot:xlabel='Year'>"
      ]
     },
     "execution_count": 22,
     "metadata": {},
     "output_type": "execute_result"
    },
    {
     "data": {
      "image/png": "[encoded data removed]",
      "text/plain": [
       "<Figure size 1008x504 with 1 Axes>"
      ]
     },
     "metadata": {
      "needs_background": "light"
     },
     "output_type": "display_data"
    }
   ],
   "source": [
    "df.groupby('Year')[['Budget Millions','Domestic Millions']].sum() \\\n",
    "    .plot(linestyle='dashed', legend=True, grid=True, figsize=(14,7))\n"
   ]
  },
  {
   "cell_type": "markdown",
   "metadata": {},
   "source": [
    "### Plot Count of releases by Month of the year"
   ]
  },
  {
   "cell_type": "code",
   "execution_count": 23,
   "metadata": {},
   "outputs": [
    {
     "data": {
      "text/plain": [
       "<AxesSubplot:xlabel='Month', ylabel='Number of Releases'>"
      ]
     },
     "execution_count": 23,
     "metadata": {},
     "output_type": "execute_result"
    },
    {
     "data": {
      "image/png": "[encoded data removed]",
      "text/plain": [
       "<Figure size 1008x504 with 1 Axes>"
      ]
     },
     "metadata": {
      "needs_background": "light"
     },
     "output_type": "display_data"
    }
   ],
   "source": [
    "df['Month'].value_counts().plot(kind='bar', figsize=(14,7), xlabel='Month', ylabel='Number of Releases')"
   ]
  },
  {
   "cell_type": "markdown",
   "metadata": {},
   "source": [
    "### Plot total releases by month (sorted)  \n",
    "also uses colormap for variety"
   ]
  },
  {
   "cell_type": "code",
   "execution_count": 24,
   "metadata": {},
   "outputs": [
    {
     "data": {
      "text/plain": [
       "<AxesSubplot:>"
      ]
     },
     "execution_count": 24,
     "metadata": {},
     "output_type": "execute_result"
    },
    {
     "data": {
      "image/png": "[encoded data removed]",
      "text/plain": [
       "<Figure size 1008x504 with 1 Axes>"
      ]
     },
     "metadata": {
      "needs_background": "light"
     },
     "output_type": "display_data"
    }
   ],
   "source": [
    "df['Month'].value_counts().sort_index(ascending=True).plot(kind='bar', figsize=(14,7), colormap='Set2')"
   ]
  },
  {
   "cell_type": "markdown",
   "metadata": {},
   "source": [
    "### Plot total release by month using `.groupby` - Second Method  \n",
    "also use colormap for variety"
   ]
  },
  {
   "cell_type": "code",
   "execution_count": 25,
   "metadata": {},
   "outputs": [
    {
     "data": {
      "text/plain": [
       "<AxesSubplot:xlabel='Month'>"
      ]
     },
     "execution_count": 25,
     "metadata": {},
     "output_type": "execute_result"
    },
    {
     "data": {
      "image/png": "[encoded data removed]",
      "text/plain": [
       "<Figure size 1008x504 with 1 Axes>"
      ]
     },
     "metadata": {
      "needs_background": "light"
     },
     "output_type": "display_data"
    }
   ],
   "source": [
    "df.groupby('Month')['Release Date'].count().plot(kind='bar', figsize=(14,7), colormap='Set2')"
   ]
  },
  {
   "cell_type": "markdown",
   "metadata": {},
   "source": [
    "### Plot which months have the highest Domestic Totals"
   ]
  },
  {
   "cell_type": "code",
   "execution_count": 26,
   "metadata": {},
   "outputs": [
    {
     "data": {
      "text/plain": [
       "<AxesSubplot:xlabel='Month'>"
      ]
     },
     "execution_count": 26,
     "metadata": {},
     "output_type": "execute_result"
    },
    {
     "data": {
      "image/png": "[encoded data removed]",
      "text/plain": [
       "<Figure size 1008x504 with 1 Axes>"
      ]
     },
     "metadata": {
      "needs_background": "light"
     },
     "output_type": "display_data"
    }
   ],
   "source": [
    "df.groupby('Month')['Domestic Millions'].sum().plot(kind='bar', figsize=(14,7))"
   ]
  },
  {
   "cell_type": "markdown",
   "metadata": {},
   "source": [
    "### More `.groupby` syntax"
   ]
  },
  {
   "cell_type": "code",
   "execution_count": 27,
   "metadata": {},
   "outputs": [
    {
     "data": {
      "text/html": [
       "<div>\n",
       "<style scoped>\n",
       "    .dataframe tbody tr th:only-of-type {\n",
       "        vertical-align: middle;\n",
       "    }\n",
       "\n",
       "    .dataframe tbody tr th {\n",
       "        vertical-align: top;\n",
       "    }\n",
       "\n",
       "    .dataframe thead th {\n",
       "        text-align: right;\n",
       "    }\n",
       "</style>\n",
       "<table border=\"1\" class=\"dataframe\">\n",
       "  <thead>\n",
       "    <tr style=\"text-align: right;\">\n",
       "      <th></th>\n",
       "      <th>Release Date</th>\n",
       "      <th>Movie Title</th>\n",
       "      <th>Production Budget</th>\n",
       "      <th>Domestic Gross</th>\n",
       "      <th>Worldwide Gross</th>\n",
       "      <th>Domestic Millions</th>\n",
       "      <th>Worldwide Millions</th>\n",
       "      <th>Budget Millions</th>\n",
       "      <th>Month</th>\n",
       "    </tr>\n",
       "    <tr>\n",
       "      <th>Year</th>\n",
       "      <th></th>\n",
       "      <th></th>\n",
       "      <th></th>\n",
       "      <th></th>\n",
       "      <th></th>\n",
       "      <th></th>\n",
       "      <th></th>\n",
       "      <th></th>\n",
       "      <th></th>\n",
       "    </tr>\n",
       "  </thead>\n",
       "  <tbody>\n",
       "    <tr>\n",
       "      <th>1997</th>\n",
       "      <td>1997-12-18</td>\n",
       "      <td>Titanic</td>\n",
       "      <td>200000000</td>\n",
       "      <td>659363944</td>\n",
       "      <td>2207986545</td>\n",
       "      <td>659.36</td>\n",
       "      <td>2207.99</td>\n",
       "      <td>200.0</td>\n",
       "      <td>12</td>\n",
       "    </tr>\n",
       "    <tr>\n",
       "      <th>1997</th>\n",
       "      <td>1997-06-20</td>\n",
       "      <td>Batman &amp; Robin</td>\n",
       "      <td>125000000</td>\n",
       "      <td>107325195</td>\n",
       "      <td>238317814</td>\n",
       "      <td>107.33</td>\n",
       "      <td>238.32</td>\n",
       "      <td>125.0</td>\n",
       "      <td>6</td>\n",
       "    </tr>\n",
       "    <tr>\n",
       "      <th>1997</th>\n",
       "      <td>1997-02-07</td>\n",
       "      <td>Dante’s Peak</td>\n",
       "      <td>115000000</td>\n",
       "      <td>67163857</td>\n",
       "      <td>178200000</td>\n",
       "      <td>67.16</td>\n",
       "      <td>178.20</td>\n",
       "      <td>115.0</td>\n",
       "      <td>2</td>\n",
       "    </tr>\n",
       "    <tr>\n",
       "      <th>1997</th>\n",
       "      <td>1997-12-19</td>\n",
       "      <td>Tomorrow Never Dies</td>\n",
       "      <td>110000000</td>\n",
       "      <td>125304276</td>\n",
       "      <td>339504276</td>\n",
       "      <td>125.30</td>\n",
       "      <td>339.50</td>\n",
       "      <td>110.0</td>\n",
       "      <td>12</td>\n",
       "    </tr>\n",
       "    <tr>\n",
       "      <th>1997</th>\n",
       "      <td>1997-06-13</td>\n",
       "      <td>Speed 2: Cruise Control</td>\n",
       "      <td>110000000</td>\n",
       "      <td>48097081</td>\n",
       "      <td>150468000</td>\n",
       "      <td>48.10</td>\n",
       "      <td>150.47</td>\n",
       "      <td>110.0</td>\n",
       "      <td>6</td>\n",
       "    </tr>\n",
       "    <tr>\n",
       "      <th>...</th>\n",
       "      <td>...</td>\n",
       "      <td>...</td>\n",
       "      <td>...</td>\n",
       "      <td>...</td>\n",
       "      <td>...</td>\n",
       "      <td>...</td>\n",
       "      <td>...</td>\n",
       "      <td>...</td>\n",
       "      <td>...</td>\n",
       "    </tr>\n",
       "    <tr>\n",
       "      <th>1997</th>\n",
       "      <td>1997-10-31</td>\n",
       "      <td>Critical Care</td>\n",
       "      <td>12000000</td>\n",
       "      <td>220175</td>\n",
       "      <td>220175</td>\n",
       "      <td>0.22</td>\n",
       "      <td>0.22</td>\n",
       "      <td>12.0</td>\n",
       "      <td>10</td>\n",
       "    </tr>\n",
       "    <tr>\n",
       "      <th>1997</th>\n",
       "      <td>1997-06-07</td>\n",
       "      <td>Madadayo</td>\n",
       "      <td>11900000</td>\n",
       "      <td>48856</td>\n",
       "      <td>49451</td>\n",
       "      <td>0.05</td>\n",
       "      <td>0.05</td>\n",
       "      <td>11.9</td>\n",
       "      <td>6</td>\n",
       "    </tr>\n",
       "    <tr>\n",
       "      <th>1997</th>\n",
       "      <td>1997-12-05</td>\n",
       "      <td>Good Will Hunting</td>\n",
       "      <td>10000000</td>\n",
       "      <td>138433435</td>\n",
       "      <td>225925989</td>\n",
       "      <td>138.43</td>\n",
       "      <td>225.93</td>\n",
       "      <td>10.0</td>\n",
       "      <td>12</td>\n",
       "    </tr>\n",
       "    <tr>\n",
       "      <th>1997</th>\n",
       "      <td>1997-03-14</td>\n",
       "      <td>Love Jones</td>\n",
       "      <td>10000000</td>\n",
       "      <td>12554569</td>\n",
       "      <td>12554569</td>\n",
       "      <td>12.55</td>\n",
       "      <td>12.55</td>\n",
       "      <td>10.0</td>\n",
       "      <td>3</td>\n",
       "    </tr>\n",
       "    <tr>\n",
       "      <th>1997</th>\n",
       "      <td>1997-10-24</td>\n",
       "      <td>Rien ne va plus</td>\n",
       "      <td>10000000</td>\n",
       "      <td>245359</td>\n",
       "      <td>5045359</td>\n",
       "      <td>0.25</td>\n",
       "      <td>5.05</td>\n",
       "      <td>10.0</td>\n",
       "      <td>10</td>\n",
       "    </tr>\n",
       "  </tbody>\n",
       "</table>\n",
       "<p>82 rows × 9 columns</p>\n",
       "</div>"
      ],
      "text/plain": [
       "     Release Date              Movie Title  Production Budget  Domestic Gross  \\\n",
       "Year                                                                            \n",
       "1997   1997-12-18                  Titanic          200000000       659363944   \n",
       "1997   1997-06-20           Batman & Robin          125000000       107325195   \n",
       "1997   1997-02-07             Dante’s Peak          115000000        67163857   \n",
       "1997   1997-12-19      Tomorrow Never Dies          110000000       125304276   \n",
       "1997   1997-06-13  Speed 2: Cruise Control          110000000        48097081   \n",
       "...           ...                      ...                ...             ...   \n",
       "1997   1997-10-31            Critical Care           12000000          220175   \n",
       "1997   1997-06-07                 Madadayo           11900000           48856   \n",
       "1997   1997-12-05        Good Will Hunting           10000000       138433435   \n",
       "1997   1997-03-14               Love Jones           10000000        12554569   \n",
       "1997   1997-10-24          Rien ne va plus           10000000          245359   \n",
       "\n",
       "      Worldwide Gross  Domestic Millions  Worldwide Millions  Budget Millions  \\\n",
       "Year                                                                            \n",
       "1997       2207986545             659.36             2207.99            200.0   \n",
       "1997        238317814             107.33              238.32            125.0   \n",
       "1997        178200000              67.16              178.20            115.0   \n",
       "1997        339504276             125.30              339.50            110.0   \n",
       "1997        150468000              48.10              150.47            110.0   \n",
       "...               ...                ...                 ...              ...   \n",
       "1997           220175               0.22                0.22             12.0   \n",
       "1997            49451               0.05                0.05             11.9   \n",
       "1997        225925989             138.43              225.93             10.0   \n",
       "1997         12554569              12.55               12.55             10.0   \n",
       "1997          5045359               0.25                5.05             10.0   \n",
       "\n",
       "      Month  \n",
       "Year         \n",
       "1997     12  \n",
       "1997      6  \n",
       "1997      2  \n",
       "1997     12  \n",
       "1997      6  \n",
       "...     ...  \n",
       "1997     10  \n",
       "1997      6  \n",
       "1997     12  \n",
       "1997      3  \n",
       "1997     10  \n",
       "\n",
       "[82 rows x 9 columns]"
      ]
     },
     "execution_count": 27,
     "metadata": {},
     "output_type": "execute_result"
    }
   ],
   "source": [
    "year_group = df.groupby('Year')\n",
    "year_group.get_group(1997).set_index('Year')\n"
   ]
  },
  {
   "cell_type": "markdown",
   "metadata": {},
   "source": [
    "### Same as above"
   ]
  },
  {
   "cell_type": "code",
   "execution_count": 28,
   "metadata": {},
   "outputs": [
    {
     "data": {
      "text/html": [
       "<div>\n",
       "<style scoped>\n",
       "    .dataframe tbody tr th:only-of-type {\n",
       "        vertical-align: middle;\n",
       "    }\n",
       "\n",
       "    .dataframe tbody tr th {\n",
       "        vertical-align: top;\n",
       "    }\n",
       "\n",
       "    .dataframe thead th {\n",
       "        text-align: right;\n",
       "    }\n",
       "</style>\n",
       "<table border=\"1\" class=\"dataframe\">\n",
       "  <thead>\n",
       "    <tr style=\"text-align: right;\">\n",
       "      <th></th>\n",
       "      <th>Release Date</th>\n",
       "      <th>Movie Title</th>\n",
       "      <th>Production Budget</th>\n",
       "      <th>Domestic Gross</th>\n",
       "      <th>Worldwide Gross</th>\n",
       "      <th>Domestic Millions</th>\n",
       "      <th>Worldwide Millions</th>\n",
       "      <th>Budget Millions</th>\n",
       "      <th>Year</th>\n",
       "      <th>Month</th>\n",
       "    </tr>\n",
       "  </thead>\n",
       "  <tbody>\n",
       "    <tr>\n",
       "      <th>45</th>\n",
       "      <td>1997-12-18</td>\n",
       "      <td>Titanic</td>\n",
       "      <td>200000000</td>\n",
       "      <td>659363944</td>\n",
       "      <td>2207986545</td>\n",
       "      <td>659.36</td>\n",
       "      <td>2207.99</td>\n",
       "      <td>200.0</td>\n",
       "      <td>1997</td>\n",
       "      <td>12</td>\n",
       "    </tr>\n",
       "    <tr>\n",
       "      <th>303</th>\n",
       "      <td>1997-06-20</td>\n",
       "      <td>Batman &amp; Robin</td>\n",
       "      <td>125000000</td>\n",
       "      <td>107325195</td>\n",
       "      <td>238317814</td>\n",
       "      <td>107.33</td>\n",
       "      <td>238.32</td>\n",
       "      <td>125.0</td>\n",
       "      <td>1997</td>\n",
       "      <td>6</td>\n",
       "    </tr>\n",
       "    <tr>\n",
       "      <th>337</th>\n",
       "      <td>1997-02-07</td>\n",
       "      <td>Dante’s Peak</td>\n",
       "      <td>115000000</td>\n",
       "      <td>67163857</td>\n",
       "      <td>178200000</td>\n",
       "      <td>67.16</td>\n",
       "      <td>178.20</td>\n",
       "      <td>115.0</td>\n",
       "      <td>1997</td>\n",
       "      <td>2</td>\n",
       "    </tr>\n",
       "    <tr>\n",
       "      <th>353</th>\n",
       "      <td>1997-12-19</td>\n",
       "      <td>Tomorrow Never Dies</td>\n",
       "      <td>110000000</td>\n",
       "      <td>125304276</td>\n",
       "      <td>339504276</td>\n",
       "      <td>125.30</td>\n",
       "      <td>339.50</td>\n",
       "      <td>110.0</td>\n",
       "      <td>1997</td>\n",
       "      <td>12</td>\n",
       "    </tr>\n",
       "    <tr>\n",
       "      <th>368</th>\n",
       "      <td>1997-06-13</td>\n",
       "      <td>Speed 2: Cruise Control</td>\n",
       "      <td>110000000</td>\n",
       "      <td>48097081</td>\n",
       "      <td>150468000</td>\n",
       "      <td>48.10</td>\n",
       "      <td>150.47</td>\n",
       "      <td>110.0</td>\n",
       "      <td>1997</td>\n",
       "      <td>6</td>\n",
       "    </tr>\n",
       "    <tr>\n",
       "      <th>...</th>\n",
       "      <td>...</td>\n",
       "      <td>...</td>\n",
       "      <td>...</td>\n",
       "      <td>...</td>\n",
       "      <td>...</td>\n",
       "      <td>...</td>\n",
       "      <td>...</td>\n",
       "      <td>...</td>\n",
       "      <td>...</td>\n",
       "      <td>...</td>\n",
       "    </tr>\n",
       "    <tr>\n",
       "      <th>3648</th>\n",
       "      <td>1997-10-31</td>\n",
       "      <td>Critical Care</td>\n",
       "      <td>12000000</td>\n",
       "      <td>220175</td>\n",
       "      <td>220175</td>\n",
       "      <td>0.22</td>\n",
       "      <td>0.22</td>\n",
       "      <td>12.0</td>\n",
       "      <td>1997</td>\n",
       "      <td>10</td>\n",
       "    </tr>\n",
       "    <tr>\n",
       "      <th>3669</th>\n",
       "      <td>1997-06-07</td>\n",
       "      <td>Madadayo</td>\n",
       "      <td>11900000</td>\n",
       "      <td>48856</td>\n",
       "      <td>49451</td>\n",
       "      <td>0.05</td>\n",
       "      <td>0.05</td>\n",
       "      <td>11.9</td>\n",
       "      <td>1997</td>\n",
       "      <td>6</td>\n",
       "    </tr>\n",
       "    <tr>\n",
       "      <th>3753</th>\n",
       "      <td>1997-12-05</td>\n",
       "      <td>Good Will Hunting</td>\n",
       "      <td>10000000</td>\n",
       "      <td>138433435</td>\n",
       "      <td>225925989</td>\n",
       "      <td>138.43</td>\n",
       "      <td>225.93</td>\n",
       "      <td>10.0</td>\n",
       "      <td>1997</td>\n",
       "      <td>12</td>\n",
       "    </tr>\n",
       "    <tr>\n",
       "      <th>3849</th>\n",
       "      <td>1997-03-14</td>\n",
       "      <td>Love Jones</td>\n",
       "      <td>10000000</td>\n",
       "      <td>12554569</td>\n",
       "      <td>12554569</td>\n",
       "      <td>12.55</td>\n",
       "      <td>12.55</td>\n",
       "      <td>10.0</td>\n",
       "      <td>1997</td>\n",
       "      <td>3</td>\n",
       "    </tr>\n",
       "    <tr>\n",
       "      <th>3938</th>\n",
       "      <td>1997-10-24</td>\n",
       "      <td>Rien ne va plus</td>\n",
       "      <td>10000000</td>\n",
       "      <td>245359</td>\n",
       "      <td>5045359</td>\n",
       "      <td>0.25</td>\n",
       "      <td>5.05</td>\n",
       "      <td>10.0</td>\n",
       "      <td>1997</td>\n",
       "      <td>10</td>\n",
       "    </tr>\n",
       "  </tbody>\n",
       "</table>\n",
       "<p>82 rows × 10 columns</p>\n",
       "</div>"
      ],
      "text/plain": [
       "     Release Date              Movie Title  Production Budget  Domestic Gross  \\\n",
       "45     1997-12-18                  Titanic          200000000       659363944   \n",
       "303    1997-06-20           Batman & Robin          125000000       107325195   \n",
       "337    1997-02-07             Dante’s Peak          115000000        67163857   \n",
       "353    1997-12-19      Tomorrow Never Dies          110000000       125304276   \n",
       "368    1997-06-13  Speed 2: Cruise Control          110000000        48097081   \n",
       "...           ...                      ...                ...             ...   \n",
       "3648   1997-10-31            Critical Care           12000000          220175   \n",
       "3669   1997-06-07                 Madadayo           11900000           48856   \n",
       "3753   1997-12-05        Good Will Hunting           10000000       138433435   \n",
       "3849   1997-03-14               Love Jones           10000000        12554569   \n",
       "3938   1997-10-24          Rien ne va plus           10000000          245359   \n",
       "\n",
       "      Worldwide Gross  Domestic Millions  Worldwide Millions  Budget Millions  \\\n",
       "45         2207986545             659.36             2207.99            200.0   \n",
       "303         238317814             107.33              238.32            125.0   \n",
       "337         178200000              67.16              178.20            115.0   \n",
       "353         339504276             125.30              339.50            110.0   \n",
       "368         150468000              48.10              150.47            110.0   \n",
       "...               ...                ...                 ...              ...   \n",
       "3648           220175               0.22                0.22             12.0   \n",
       "3669            49451               0.05                0.05             11.9   \n",
       "3753        225925989             138.43              225.93             10.0   \n",
       "3849         12554569              12.55               12.55             10.0   \n",
       "3938          5045359               0.25                5.05             10.0   \n",
       "\n",
       "      Year  Month  \n",
       "45    1997     12  \n",
       "303   1997      6  \n",
       "337   1997      2  \n",
       "353   1997     12  \n",
       "368   1997      6  \n",
       "...    ...    ...  \n",
       "3648  1997     10  \n",
       "3669  1997      6  \n",
       "3753  1997     12  \n",
       "3849  1997      3  \n",
       "3938  1997     10  \n",
       "\n",
       "[82 rows x 10 columns]"
      ]
     },
     "execution_count": 28,
     "metadata": {},
     "output_type": "execute_result"
    }
   ],
   "source": [
    "df.groupby('Year').get_group(1997)"
   ]
  },
  {
   "cell_type": "markdown",
   "metadata": {},
   "source": [
    "### Plot biggest movies in specific year  \n",
    "Use `.set_index` to index agaist the X axis"
   ]
  },
  {
   "cell_type": "code",
   "execution_count": 29,
   "metadata": {},
   "outputs": [
    {
     "data": {
      "text/plain": [
       "<AxesSubplot:xlabel='Movie Title', ylabel='USD'>"
      ]
     },
     "execution_count": 29,
     "metadata": {},
     "output_type": "execute_result"
    },
    {
     "data": {
      "image/png": "[encoded data removed]",
      "text/plain": [
       "<Figure size 1440x720 with 1 Axes>"
      ]
     },
     "metadata": {
      "needs_background": "light"
     },
     "output_type": "display_data"
    }
   ],
   "source": [
    "year_group.get_group(1990).set_index('Movie Title')['Domestic Millions'] \\\n",
    "    .plot(kind='bar', figsize=(20,10), colormap='Set2', ylabel='USD')"
   ]
  },
  {
   "cell_type": "markdown",
   "metadata": {},
   "source": [
    "### Plot highest grossing Star Trek Films"
   ]
  },
  {
   "cell_type": "code",
   "execution_count": 30,
   "metadata": {},
   "outputs": [
    {
     "data": {
      "text/plain": [
       "<AxesSubplot:xlabel='Movie Title'>"
      ]
     },
     "execution_count": 30,
     "metadata": {},
     "output_type": "execute_result"
    },
    {
     "data": {
      "image/png": "[encoded data removed]",
      "text/plain": [
       "<Figure size 1440x504 with 1 Axes>"
      ]
     },
     "metadata": {
      "needs_background": "light"
     },
     "output_type": "display_data"
    }
   ],
   "source": [
    "fltr = df['Movie Title'].str.contains('Star Trek')\n",
    "df.loc[fltr].set_index('Movie Title')['Domestic Millions'].plot(kind='bar', figsize=(20,7))"
   ]
  },
  {
   "cell_type": "markdown",
   "metadata": {},
   "source": [
    "### Create a column for Day of Week of Release"
   ]
  },
  {
   "cell_type": "code",
   "execution_count": 31,
   "metadata": {},
   "outputs": [
    {
     "data": {
      "text/html": [
       "<div>\n",
       "<style scoped>\n",
       "    .dataframe tbody tr th:only-of-type {\n",
       "        vertical-align: middle;\n",
       "    }\n",
       "\n",
       "    .dataframe tbody tr th {\n",
       "        vertical-align: top;\n",
       "    }\n",
       "\n",
       "    .dataframe thead th {\n",
       "        text-align: right;\n",
       "    }\n",
       "</style>\n",
       "<table border=\"1\" class=\"dataframe\">\n",
       "  <thead>\n",
       "    <tr style=\"text-align: right;\">\n",
       "      <th></th>\n",
       "      <th>Release Date</th>\n",
       "      <th>Movie Title</th>\n",
       "      <th>Production Budget</th>\n",
       "      <th>Domestic Gross</th>\n",
       "      <th>Worldwide Gross</th>\n",
       "      <th>Domestic Millions</th>\n",
       "      <th>Worldwide Millions</th>\n",
       "      <th>Budget Millions</th>\n",
       "      <th>Year</th>\n",
       "      <th>Month</th>\n",
       "      <th>Day of Release</th>\n",
       "    </tr>\n",
       "  </thead>\n",
       "  <tbody>\n",
       "    <tr>\n",
       "      <th>0</th>\n",
       "      <td>2019-04-23</td>\n",
       "      <td>Avengers: Endgame</td>\n",
       "      <td>400000000</td>\n",
       "      <td>858373000</td>\n",
       "      <td>2797800564</td>\n",
       "      <td>858.37</td>\n",
       "      <td>2797.80</td>\n",
       "      <td>400.0</td>\n",
       "      <td>2019</td>\n",
       "      <td>4</td>\n",
       "      <td>Tuesday</td>\n",
       "    </tr>\n",
       "    <tr>\n",
       "      <th>1</th>\n",
       "      <td>2011-05-20</td>\n",
       "      <td>Pirates of the Caribbean: On Stranger Tides</td>\n",
       "      <td>379000000</td>\n",
       "      <td>241071802</td>\n",
       "      <td>1045713802</td>\n",
       "      <td>241.07</td>\n",
       "      <td>1045.71</td>\n",
       "      <td>379.0</td>\n",
       "      <td>2011</td>\n",
       "      <td>5</td>\n",
       "      <td>Friday</td>\n",
       "    </tr>\n",
       "    <tr>\n",
       "      <th>2</th>\n",
       "      <td>2015-04-22</td>\n",
       "      <td>Avengers: Age of Ultron</td>\n",
       "      <td>365000000</td>\n",
       "      <td>459005868</td>\n",
       "      <td>1395316979</td>\n",
       "      <td>459.01</td>\n",
       "      <td>1395.32</td>\n",
       "      <td>365.0</td>\n",
       "      <td>2015</td>\n",
       "      <td>4</td>\n",
       "      <td>Wednesday</td>\n",
       "    </tr>\n",
       "    <tr>\n",
       "      <th>3</th>\n",
       "      <td>2015-12-16</td>\n",
       "      <td>Star Wars Ep. VII: The Force Awakens</td>\n",
       "      <td>306000000</td>\n",
       "      <td>936662225</td>\n",
       "      <td>2064615817</td>\n",
       "      <td>936.66</td>\n",
       "      <td>2064.62</td>\n",
       "      <td>306.0</td>\n",
       "      <td>2015</td>\n",
       "      <td>12</td>\n",
       "      <td>Wednesday</td>\n",
       "    </tr>\n",
       "    <tr>\n",
       "      <th>4</th>\n",
       "      <td>2018-04-25</td>\n",
       "      <td>Avengers: Infinity War</td>\n",
       "      <td>300000000</td>\n",
       "      <td>678815482</td>\n",
       "      <td>2044540523</td>\n",
       "      <td>678.82</td>\n",
       "      <td>2044.54</td>\n",
       "      <td>300.0</td>\n",
       "      <td>2018</td>\n",
       "      <td>4</td>\n",
       "      <td>Wednesday</td>\n",
       "    </tr>\n",
       "  </tbody>\n",
       "</table>\n",
       "</div>"
      ],
      "text/plain": [
       "  Release Date                                  Movie Title  \\\n",
       "0   2019-04-23                            Avengers: Endgame   \n",
       "1   2011-05-20  Pirates of the Caribbean: On Stranger Tides   \n",
       "2   2015-04-22                      Avengers: Age of Ultron   \n",
       "3   2015-12-16         Star Wars Ep. VII: The Force Awakens   \n",
       "4   2018-04-25                       Avengers: Infinity War   \n",
       "\n",
       "   Production Budget  Domestic Gross  Worldwide Gross  Domestic Millions  \\\n",
       "0          400000000       858373000       2797800564             858.37   \n",
       "1          379000000       241071802       1045713802             241.07   \n",
       "2          365000000       459005868       1395316979             459.01   \n",
       "3          306000000       936662225       2064615817             936.66   \n",
       "4          300000000       678815482       2044540523             678.82   \n",
       "\n",
       "   Worldwide Millions  Budget Millions  Year  Month Day of Release  \n",
       "0             2797.80            400.0  2019      4        Tuesday  \n",
       "1             1045.71            379.0  2011      5         Friday  \n",
       "2             1395.32            365.0  2015      4      Wednesday  \n",
       "3             2064.62            306.0  2015     12      Wednesday  \n",
       "4             2044.54            300.0  2018      4      Wednesday  "
      ]
     },
     "execution_count": 31,
     "metadata": {},
     "output_type": "execute_result"
    }
   ],
   "source": [
    "df['Day of Release'] = df['Release Date'].dt.day_name()\n",
    "df.head()"
   ]
  },
  {
   "cell_type": "markdown",
   "metadata": {},
   "source": [
    "### Plot movie domestic totals by release day of week"
   ]
  },
  {
   "cell_type": "code",
   "execution_count": 32,
   "metadata": {},
   "outputs": [
    {
     "data": {
      "text/plain": [
       "<AxesSubplot:xlabel='Day of Release', ylabel='Millions USD'>"
      ]
     },
     "execution_count": 32,
     "metadata": {},
     "output_type": "execute_result"
    },
    {
     "data": {
      "image/png": "[encoded data removed]",
      "text/plain": [
       "<Figure size 1440x504 with 1 Axes>"
      ]
     },
     "metadata": {
      "needs_background": "light"
     },
     "output_type": "display_data"
    }
   ],
   "source": [
    "df.groupby('Day of Release')['Domestic Millions'].sum().plot(kind='bar', figsize=(20,7), ylabel='Millions USD')"
   ]
  }
 ],
 "metadata": {
  "kernelspec": {
   "display_name": "Python 3.10.1 64-bit",
   "language": "python",
   "name": "python3"
  },
  "language_info": {
   "codemirror_mode": {
    "name": "ipython",
    "version": 3
   },
   "file_extension": ".py",
   "mimetype": "text/x-python",
   "name": "python",
   "nbconvert_exporter": "python",
   "pygments_lexer": "ipython3",
   "version": "3.10.1"
  },
  "orig_nbformat": 4,
  "vscode": {
   "interpreter": {
    "hash": "949777d72b0d2535278d3dc13498b2535136f6dfe0678499012e853ee9abcab1"
   }
  }
 },
 "nbformat": 4,
 "nbformat_minor": 2
}
